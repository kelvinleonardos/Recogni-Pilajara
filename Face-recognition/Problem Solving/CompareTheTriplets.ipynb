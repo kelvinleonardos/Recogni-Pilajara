{
  "nbformat": 4,
  "nbformat_minor": 0,
  "metadata": {
    "colab": {
      "provenance": []
    },
    "kernelspec": {
      "name": "python3",
      "display_name": "Python 3"
    },
    "language_info": {
      "name": "python"
    }
  },
  "cells": [
    {
      "cell_type": "code",
      "execution_count": 1,
      "metadata": {
        "id": "OHi_fjIqGmJs"
      },
      "outputs": [],
      "source": [
        "def compareTriplets(a, b):\n",
        "    alice, bob = 0, 0\n",
        "    for i in range(len(a)):\n",
        "        if a[i] > b[i]: alice += 1\n",
        "        elif a[i] < b[i]: bob += 1\n",
        "    return [alice, bob]"
      ]
    },
    {
      "cell_type": "code",
      "source": [
        "def compareTriplets(a, b):\n",
        "  alice, bob = 0,0\n",
        "  for x,y in zip(a,b):\n",
        "    if x > y: alice += 1\n",
        "    elif x < y: bob += 1\n",
        "  return [alice,bob]"
      ],
      "metadata": {
        "id": "_BoZZ05bGrxe"
      },
      "execution_count": 2,
      "outputs": []
    }
  ]
}