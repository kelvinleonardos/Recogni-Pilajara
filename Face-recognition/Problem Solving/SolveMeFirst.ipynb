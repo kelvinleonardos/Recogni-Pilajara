{
  "nbformat": 4,
  "nbformat_minor": 0,
  "metadata": {
    "colab": {
      "provenance": []
    },
    "kernelspec": {
      "name": "python3",
      "display_name": "Python 3"
    },
    "language_info": {
      "name": "python"
    }
  },
  "cells": [
    {
      "cell_type": "code",
      "execution_count": null,
      "metadata": {
        "id": "En_ek6VvF0QZ"
      },
      "outputs": [],
      "source": [
        "def solveMeFirst(a,b):\n",
        "\treturn(a + b)\n",
        "\n",
        "num1 = int(input())\n",
        "num2 = int(input())\n",
        "res = solveMeFirst(num1,num2)\n",
        "print(res)\n"
      ]
    }
  ]
}