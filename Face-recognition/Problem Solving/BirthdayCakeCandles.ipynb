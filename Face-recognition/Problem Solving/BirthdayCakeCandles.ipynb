{
  "nbformat": 4,
  "nbformat_minor": 0,
  "metadata": {
    "colab": {
      "provenance": []
    },
    "kernelspec": {
      "name": "python3",
      "display_name": "Python 3"
    },
    "language_info": {
      "name": "python"
    }
  },
  "cells": [
    {
      "cell_type": "markdown",
      "source": [
        "Input : 3 2 1 3\n",
        "\n",
        "Expected Output : 2"
      ],
      "metadata": {
        "id": "8YdKf-7Lw3qN"
      }
    },
    {
      "cell_type": "code",
      "source": [
        "x = [3,2,1,3]"
      ],
      "metadata": {
        "id": "dSPZYOypxVMR"
      },
      "execution_count": 1,
      "outputs": []
    },
    {
      "cell_type": "code",
      "execution_count": 2,
      "metadata": {
        "colab": {
          "base_uri": "https://localhost:8080/"
        },
        "id": "tFDCVDiVwjZl",
        "outputId": "d076453f-622b-46c0-f645-e4b58d397b06"
      },
      "outputs": [
        {
          "output_type": "execute_result",
          "data": {
            "text/plain": [
              "2"
            ]
          },
          "metadata": {},
          "execution_count": 2
        }
      ],
      "source": [
        "def birthdayCakeCandles(candles):\n",
        "    return candles.count(max(candles))\n",
        "birthdayCakeCandles(x)"
      ]
    },
    {
      "cell_type": "code",
      "source": [],
      "metadata": {
        "id": "Y_bsZQKQwvEg"
      },
      "execution_count": null,
      "outputs": []
    }
  ]
}