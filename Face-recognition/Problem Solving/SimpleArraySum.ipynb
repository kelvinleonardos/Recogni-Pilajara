{
  "nbformat": 4,
  "nbformat_minor": 0,
  "metadata": {
    "colab": {
      "provenance": []
    },
    "kernelspec": {
      "name": "python3",
      "display_name": "Python 3"
    },
    "language_info": {
      "name": "python"
    }
  },
  "cells": [
    {
      "cell_type": "code",
      "execution_count": null,
      "metadata": {
        "id": "C_rkS3hTGWOb"
      },
      "outputs": [],
      "source": [
        "def simpleArraySum(ar):\n",
        "    total = 0\n",
        "    for i in ar:\n",
        "        total += i\n",
        "    return total"
      ]
    }
  ]
}